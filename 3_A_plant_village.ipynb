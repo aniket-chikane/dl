{
 "cells": [
  {
   "cell_type": "code",
   "execution_count": 1,
   "metadata": {
    "id": "vEL-MlGdwE5o"
   },
   "outputs": [],
   "source": [
    "import numpy as np\n",
    "import os\n",
    "import cv2\n",
    "from sklearn.model_selection import train_test_split\n",
    "from keras.utils import to_categorical\n",
    "from keras.models import Sequential\n",
    "from keras.layers import Conv2D, MaxPooling2D, Flatten, Dense"
   ]
  },
  {
   "cell_type": "code",
   "execution_count": 2,
   "metadata": {
    "colab": {
     "base_uri": "https://localhost:8080/",
     "height": 235
    },
    "id": "gAp66YBnwPEk",
    "outputId": "3f40bae4-a3ec-483e-9ed1-49a032f40a80"
   },
   "outputs": [],
   "source": [
    "# Load dataset\n",
    "dataset_path = r\"D:\\BE\\dl\\archive\\PlantVillage\"\n",
    "categories = os.listdir(dataset_path)\n",
    "num_classes = len(categories)\n",
    "image_size = 128\n",
    "X = []\n",
    "y = []\n"
   ]
  },
  {
   "cell_type": "code",
   "execution_count": 6,
   "metadata": {
    "colab": {
     "base_uri": "https://localhost:8080/",
     "height": 130
    },
    "id": "UDDirHsHwpAX",
    "outputId": "d46590ce-bb88-4d16-82c1-680f19d4fc38"
   },
   "outputs": [],
   "source": [
    "for category in categories:\n",
    "    folder_path = os.path.join(dataset_path, category)\n",
    "    label = categories.index(category)\n",
    "    for img_name in os.listdir(folder_path):\n",
    "        img_path = os.path.join(folder_path, img_name)\n",
    "        image = cv2.imread(img_path)\n",
    "        if image is not None:\n",
    "            # Check if the image is not empty\n",
    "            image = cv2.resize(image, (image_size, image_size))\n",
    "            X.append(image)\n",
    "            y.append(label)\n"
   ]
  },
  {
   "cell_type": "code",
   "execution_count": 7,
   "metadata": {
    "colab": {
     "base_uri": "https://localhost:8080/",
     "height": 235
    },
    "id": "hllac0lgwsiK",
    "outputId": "086d56f8-f0ad-4993-8f1c-1d729e867c85"
   },
   "outputs": [],
   "source": [
    "# Convert lists to arrays\n",
    "X = np.array(X)\n",
    "y = to_categorical(y, num_classes)\n",
    "# Split dataset into training and testing sets\n",
    "X_train, X_test, y_train, y_test = train_test_split(X, y, test_size=0.2, random_state=42)\n"
   ]
  },
  {
   "cell_type": "code",
   "execution_count": 8,
   "metadata": {
    "colab": {
     "base_uri": "https://localhost:8080/",
     "height": 235
    },
    "id": "94mbmwN5wxaK",
    "outputId": "b28235a9-8800-46e6-fc12-aed8d9fd486f"
   },
   "outputs": [],
   "source": [
    "# Create CNN model\n",
    "model = Sequential()\n",
    "model.add(Conv2D(32, (3, 3), activation='relu', input_shape=(image_size, image_size, 3)))\n",
    "model.add(MaxPooling2D(pool_size=(2, 2)))\n",
    "model.add(Conv2D(64, (3, 3), activation='relu'))\n",
    "model.add(MaxPooling2D(pool_size=(2, 2)))\n",
    "model.add(Flatten())\n",
    "model.add(Dense(128, activation='relu'))\n",
    "model.add(Dense(num_classes, activation='softmax'))\n"
   ]
  },
  {
   "cell_type": "code",
   "execution_count": 9,
   "metadata": {
    "colab": {
     "base_uri": "https://localhost:8080/",
     "height": 200
    },
    "id": "B79isFvwwzS9",
    "outputId": "94e90d9e-04b5-4dec-d49f-af26f252c66e"
   },
   "outputs": [
    {
     "name": "stdout",
     "output_type": "stream",
     "text": [
      "Epoch 1/10\n",
      "1032/1032 [==============================] - 234s 225ms/step - loss: 5.4925 - accuracy: 0.5160 - val_loss: 1.0592 - val_accuracy: 0.6731\n",
      "Epoch 2/10\n",
      "1032/1032 [==============================] - 286s 277ms/step - loss: 0.5956 - accuracy: 0.8208 - val_loss: 0.7197 - val_accuracy: 0.8020\n",
      "Epoch 3/10\n",
      "1032/1032 [==============================] - 438s 424ms/step - loss: 0.2360 - accuracy: 0.9289 - val_loss: 0.5358 - val_accuracy: 0.8803\n",
      "Epoch 4/10\n",
      "1032/1032 [==============================] - 316s 306ms/step - loss: 0.1506 - accuracy: 0.9558 - val_loss: 0.6023 - val_accuracy: 0.8699\n",
      "Epoch 5/10\n",
      "1032/1032 [==============================] - 256s 248ms/step - loss: 0.1373 - accuracy: 0.9619 - val_loss: 0.7780 - val_accuracy: 0.8446\n",
      "Epoch 6/10\n",
      "1032/1032 [==============================] - 214s 208ms/step - loss: 0.1239 - accuracy: 0.9657 - val_loss: 0.7823 - val_accuracy: 0.8819\n",
      "Epoch 7/10\n",
      "1032/1032 [==============================] - 203s 197ms/step - loss: 0.1309 - accuracy: 0.9623 - val_loss: 0.8338 - val_accuracy: 0.8859\n",
      "Epoch 8/10\n",
      "1032/1032 [==============================] - 196s 190ms/step - loss: 0.1027 - accuracy: 0.9735 - val_loss: 1.0553 - val_accuracy: 0.8551\n",
      "Epoch 9/10\n",
      "1032/1032 [==============================] - 196s 190ms/step - loss: 0.1338 - accuracy: 0.9673 - val_loss: 0.9536 - val_accuracy: 0.8734\n",
      "Epoch 10/10\n",
      "1032/1032 [==============================] - 222s 215ms/step - loss: 0.1011 - accuracy: 0.9743 - val_loss: 0.9246 - val_accuracy: 0.8978\n"
     ]
    },
    {
     "data": {
      "text/plain": [
       "<keras.callbacks.History at 0x250093e7af0>"
      ]
     },
     "execution_count": 9,
     "metadata": {},
     "output_type": "execute_result"
    }
   ],
   "source": [
    "# Compile and train the model\n",
    "model.compile(optimizer='adam', loss='categorical_crossentropy', metrics=['accuracy'])\n",
    "model.fit(X_train, y_train, epochs=10, batch_size=32, validation_data=(X_test, y_test))\n"
   ]
  },
  {
   "cell_type": "code",
   "execution_count": 17,
   "metadata": {
    "id": "RqfENLjGw1-T"
   },
   "outputs": [],
   "source": [
    "# Save the trained model\n",
    "model.save(\"plant_disease_model.h5\")\n",
    "from keras.models import load_model\n",
    "# Load the saved model\n",
    "model = load_model(\"plant_disease_model.h5\")\n"
   ]
  },
  {
   "cell_type": "code",
   "execution_count": 18,
   "metadata": {
    "id": "69bw7Es8w576"
   },
   "outputs": [],
   "source": [
    "# Provide the path to your custom input image\n",
    "input_image_path = r\"D:\\BE\\dl\\paper.JPG\"\n"
   ]
  },
  {
   "cell_type": "code",
   "execution_count": 19,
   "metadata": {
    "id": "INPlNK-JxBpc"
   },
   "outputs": [],
   "source": [
    "def preprocess_image(image_path):\n",
    "    try:\n",
    "        image = cv2.imread(image_path)\n",
    "        if image is None:\n",
    "            raise Exception(\"Failed to read the image file.\")\n",
    "            image = cv2.resize(image, (image_size, image_size))\n",
    "            image = image / 255.0 # Normalize the pixel values between 0 and 1\n",
    "            return image\n",
    "    except Exception as e:\n",
    "        print(\"Error preprocessing image:\", str(e))\n",
    "        return None"
   ]
  },
  {
   "cell_type": "code",
   "execution_count": 20,
   "metadata": {
    "colab": {
     "base_uri": "https://localhost:8080/",
     "height": 130
    },
    "id": "zzQ3lITkxFuZ",
    "outputId": "a037e96d-a2be-40ca-e8e2-77c97ff68850"
   },
   "outputs": [],
   "source": [
    "# Function to make predictions on the input image\n",
    "def predict_image(image_path):\n",
    "    # Preprocess the input image\n",
    "    image = preprocess_image(image_path)\n",
    "    if image is not None:\n",
    "        image = np.expand_dims(image, axis=0) # Add an extra dimension for batch size\n",
    "        # Make the prediction\n",
    "        prediction = model.predict(image)\n",
    "        class_index = np.argmax(prediction)\n",
    "        class_label = categories[class_index]\n",
    "        return class_label\n",
    "    else:\n",
    "        return None"
   ]
  },
  {
   "cell_type": "code",
   "execution_count": 21,
   "metadata": {
    "colab": {
     "base_uri": "https://localhost:8080/",
     "height": 130
    },
    "id": "ICPrx37cxLql",
    "outputId": "28806a51-eb4d-4f71-cc35-1f7fc34daa81"
   },
   "outputs": [],
   "source": [
    "# Make a prediction on the input image\n",
    "predicted_class = predict_image(input_image_path)\n",
    "if predicted_class is not None:\n",
    "    # Print the predicted class\n",
    "    print(\"Predicted Class:\", predicted_class)\n"
   ]
  },
  {
   "cell_type": "code",
   "execution_count": null,
   "metadata": {
    "id": "mL8JkyN-xPIT"
   },
   "outputs": [],
   "source": []
  }
 ],
 "metadata": {
  "colab": {
   "provenance": []
  },
  "kernelspec": {
   "display_name": "Python 3 (ipykernel)",
   "language": "python",
   "name": "python3"
  },
  "language_info": {
   "codemirror_mode": {
    "name": "ipython",
    "version": 3
   },
   "file_extension": ".py",
   "mimetype": "text/x-python",
   "name": "python",
   "nbconvert_exporter": "python",
   "pygments_lexer": "ipython3",
   "version": "3.9.12"
  }
 },
 "nbformat": 4,
 "nbformat_minor": 1
}
