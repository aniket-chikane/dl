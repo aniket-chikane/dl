{
  "nbformat": 4,
  "nbformat_minor": 0,
  "metadata": {
    "colab": {
      "provenance": []
    },
    "kernelspec": {
      "name": "python3",
      "display_name": "Python 3"
    },
    "language_info": {
      "name": "python"
    }
  },
  "cells": [
    {
      "cell_type": "markdown",
      "source": [
        "Name: Aniket\n",
        "Roll No: 4123"
      ],
      "metadata": {
        "id": "XF_zn9EEHkgE"
      }
    },
    {
      "cell_type": "code",
      "execution_count": null,
      "metadata": {
        "id": "2E_Iyxwa868j"
      },
      "outputs": [],
      "source": [
        "import tensorflow as tf\n",
        "from tensorflow.keras.datasets import imdb\n",
        "from tensorflow.keras.preprocessing.text import Tokenizer\n",
        "from tensorflow.keras.preprocessing.sequence import pad_sequences"
      ]
    },
    {
      "cell_type": "code",
      "source": [
        "vocab_size=1000\n",
        "(x_train,y_train),(x_test,y_test) = imdb.load_data(num_words=vocab_size)"
      ],
      "metadata": {
        "id": "i2oyC6HS9ofc"
      },
      "execution_count": null,
      "outputs": []
    },
    {
      "cell_type": "code",
      "source": [
        "tokenizer= Tokenizer(num_words=vocab_size)\n",
        "X_train = tokenizer.sequences_to_matrix(x_train,mode='binary')\n",
        "X_test = tokenizer.sequences_to_matrix(x_test,mode='binary')"
      ],
      "metadata": {
        "id": "nHyHEt6t-aZg"
      },
      "execution_count": null,
      "outputs": []
    },
    {
      "cell_type": "code",
      "source": [
        "max_length=500\n",
        "x_train=pad_sequences(X_train,maxlen=max_length,padding='pre',truncating='pre')\n",
        "x_test=pad_sequences(X_test,maxlen=max_length,padding='pre',truncating='pre')"
      ],
      "metadata": {
        "id": "Ig2E-UFJ_LjR"
      },
      "execution_count": null,
      "outputs": []
    },
    {
      "cell_type": "code",
      "source": [
        "model= tf.keras.models.Sequential([\n",
        "    tf.keras.layers.Embedding(vocab_size,64,input_length=max_length),\n",
        "    tf.keras.layers.Conv1D(128,5,activation='relu'),\n",
        "    tf.keras.layers.GlobalMaxPooling1D(),\n",
        "    tf.keras.layers.Dense(64,activation='relu'),\n",
        "    tf.keras.layers.Dense(1,activation='sigmoid')\n",
        "])"
      ],
      "metadata": {
        "id": "_QAd95gdA2vu"
      },
      "execution_count": null,
      "outputs": []
    },
    {
      "cell_type": "code",
      "source": [
        "model.compile(optimizer='adam',loss='binary_crossentropy',metrics=['accuracy'])"
      ],
      "metadata": {
        "id": "731mBt_GCRRD"
      },
      "execution_count": null,
      "outputs": []
    },
    {
      "cell_type": "code",
      "source": [
        "history=model.fit(x_train,y_train,epochs=10,batch_size=32,validation_split=0.2)"
      ],
      "metadata": {
        "colab": {
          "base_uri": "https://localhost:8080/"
        },
        "id": "rig79cTvCnSx",
        "outputId": "4fb899cf-ed28-4981-9ec8-d7a7922cd332"
      },
      "execution_count": null,
      "outputs": [
        {
          "output_type": "stream",
          "name": "stdout",
          "text": [
            "Epoch 1/10\n",
            "625/625 [==============================] - 106s 169ms/step - loss: 0.6934 - accuracy: 0.5017 - val_loss: 0.6931 - val_accuracy: 0.5062\n",
            "Epoch 2/10\n",
            "625/625 [==============================] - 93s 149ms/step - loss: 0.6932 - accuracy: 0.4997 - val_loss: 0.6932 - val_accuracy: 0.4938\n",
            "Epoch 3/10\n",
            "625/625 [==============================] - 110s 177ms/step - loss: 0.6932 - accuracy: 0.4978 - val_loss: 0.6931 - val_accuracy: 0.5062\n",
            "Epoch 4/10\n",
            "625/625 [==============================] - 94s 151ms/step - loss: 0.6932 - accuracy: 0.5001 - val_loss: 0.6933 - val_accuracy: 0.4938\n",
            "Epoch 5/10\n",
            "625/625 [==============================] - 81s 129ms/step - loss: 0.6932 - accuracy: 0.4978 - val_loss: 0.6932 - val_accuracy: 0.4938\n",
            "Epoch 6/10\n",
            "625/625 [==============================] - 84s 134ms/step - loss: 0.6932 - accuracy: 0.5010 - val_loss: 0.6931 - val_accuracy: 0.5062\n",
            "Epoch 7/10\n",
            "625/625 [==============================] - 80s 128ms/step - loss: 0.6932 - accuracy: 0.4929 - val_loss: 0.6932 - val_accuracy: 0.4938\n",
            "Epoch 8/10\n",
            "625/625 [==============================] - 79s 126ms/step - loss: 0.6932 - accuracy: 0.4978 - val_loss: 0.6932 - val_accuracy: 0.4938\n",
            "Epoch 9/10\n",
            "625/625 [==============================] - 80s 128ms/step - loss: 0.6932 - accuracy: 0.5016 - val_loss: 0.6932 - val_accuracy: 0.4938\n",
            "Epoch 10/10\n",
            "625/625 [==============================] - 80s 128ms/step - loss: 0.6932 - accuracy: 0.4988 - val_loss: 0.6931 - val_accuracy: 0.4938\n"
          ]
        }
      ]
    },
    {
      "cell_type": "code",
      "source": [
        "test_loss,test_acc=model.evaluate(x_test,y_text)\n",
        "print(\"test accuraccy : \",test_acc)\n"
      ],
      "metadata": {
        "id": "8Q5KXi5pC70g"
      },
      "execution_count": null,
      "outputs": []
    },
    {
      "cell_type": "code",
      "source": [
        "new_x=[\"the movie was excellent and worth watching\"]\n",
        "new_x=tokenizer.texts_to_sequences(new_x)\n",
        "new_x=pad_sequences(new_x,maxlen=max_length,padding='pre',truncating='pre')\n",
        "pred=model.predict(new_x)[0][0]\n",
        "if pred>0.5:\n",
        "  print(\"Positive Review\")\n",
        "else:\n",
        "  print(\"Negative Review\")"
      ],
      "metadata": {
        "colab": {
          "base_uri": "https://localhost:8080/"
        },
        "id": "4q4lXQEZDu8f",
        "outputId": "657070fa-97c5-46f9-cace-d88dfd8fc66a"
      },
      "execution_count": null,
      "outputs": [
        {
          "output_type": "stream",
          "name": "stdout",
          "text": [
            "1/1 [==============================] - 0s 181ms/step\n",
            "Positive Review\n"
          ]
        }
      ]
    },
    {
      "cell_type": "code",
      "source": [],
      "metadata": {
        "id": "5b2fhGq-HKK-"
      },
      "execution_count": null,
      "outputs": []
    },
    {
      "cell_type": "markdown",
      "source": [],
      "metadata": {
        "id": "gymvxX9bHjTQ"
      }
    }
  ]
}
