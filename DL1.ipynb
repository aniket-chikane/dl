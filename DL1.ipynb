{
  "nbformat": 4,
  "nbformat_minor": 0,
  "metadata": {
    "colab": {
      "provenance": []
    },
    "kernelspec": {
      "name": "python3",
      "display_name": "Python 3"
    },
    "language_info": {
      "name": "python"
    }
  },
  "cells": [
    {
      "cell_type": "markdown",
      "source": [
        "Name: Rutuja Ashok Jadhav\n",
        "Roll No: 4157"
      ],
      "metadata": {
        "id": "YKcsaMqOfYg_"
      }
    },
    {
      "cell_type": "code",
      "source": [
        "import numpy as np\n",
        "import tensorflow as tf\n",
        "from tensorflow.keras.datasets import boston_housing\n",
        "!pip install sklearn\n",
        "from sklearn.preprocessing import StandardScaler\n"
      ],
      "metadata": {
        "colab": {
          "base_uri": "https://localhost:8080/"
        },
        "id": "MejM5jMIfkXo",
        "outputId": "7ab9a26f-25b8-4907-a1a6-731eee7f49b1"
      },
      "execution_count": null,
      "outputs": [
        {
          "output_type": "stream",
          "name": "stdout",
          "text": [
            "Looking in indexes: https://pypi.org/simple, https://us-python.pkg.dev/colab-wheels/public/simple/\n",
            "Requirement already satisfied: sklearn in /usr/local/lib/python3.10/dist-packages (0.0.post5)\n"
          ]
        }
      ]
    },
    {
      "cell_type": "code",
      "source": [
        "(x_train,y_train),(x_test,y_test)=boston_housing.load_data()\n"
      ],
      "metadata": {
        "id": "KD-3fugGf7Yl"
      },
      "execution_count": null,
      "outputs": []
    },
    {
      "cell_type": "code",
      "source": [
        "x=np.concatenate((x_train,x_test), axis=0)\n",
        "y=np.concatenate((y_train,y_test), axis=0).reshape(-1,1)"
      ],
      "metadata": {
        "id": "KRwkVnY9g6r2"
      },
      "execution_count": null,
      "outputs": []
    },
    {
      "cell_type": "code",
      "source": [
        "scalar=StandardScaler()\n",
        "x=scalar.fit_transform(x)"
      ],
      "metadata": {
        "id": "dkVHXfKRhUoV"
      },
      "execution_count": null,
      "outputs": []
    },
    {
      "cell_type": "code",
      "source": [
        "model = tf.keras.models.Sequential( [\n",
        "     tf.keras.layers.Dense(64, activation= 'relu' , input_shape=[13]),\n",
        "     tf.keras.layers.Dense(64, activation= 'relu'),\n",
        "     tf. keras . layers . Dense (1)\n",
        "])"
      ],
      "metadata": {
        "id": "X0ynOcngiPi_"
      },
      "execution_count": null,
      "outputs": []
    },
    {
      "cell_type": "code",
      "source": [
        "model.compile(optimizer= 'adam',loss= 'mse',metrics=['mae', 'mse'])"
      ],
      "metadata": {
        "id": "eJdBqvXgjBoM"
      },
      "execution_count": null,
      "outputs": []
    },
    {
      "cell_type": "code",
      "source": [
        "history=model.fit(x,y,epochs=100,validation_split=0.2)"
      ],
      "metadata": {
        "colab": {
          "base_uri": "https://localhost:8080/"
        },
        "id": "FuLJhCnAjkg4",
        "outputId": "1de102cf-c853-49ce-d101-3d7e55877b71"
      },
      "execution_count": null,
      "outputs": [
        {
          "output_type": "stream",
          "name": "stdout",
          "text": [
            "Epoch 1/100\n",
            "13/13 [==============================] - 2s 25ms/step - loss: 575.5412 - mae: 22.0188 - mse: 575.5412 - val_loss: 573.3731 - val_mae: 21.9997 - val_mse: 573.3731\n",
            "Epoch 2/100\n",
            "13/13 [==============================] - 0s 5ms/step - loss: 519.5582 - mae: 20.6767 - mse: 519.5582 - val_loss: 514.1835 - val_mae: 20.5658 - val_mse: 514.1835\n",
            "Epoch 3/100\n",
            "13/13 [==============================] - 0s 6ms/step - loss: 457.3116 - mae: 19.0712 - mse: 457.3116 - val_loss: 439.1812 - val_mae: 18.6750 - val_mse: 439.1812\n",
            "Epoch 4/100\n",
            "13/13 [==============================] - 0s 7ms/step - loss: 376.1215 - mae: 16.9781 - mse: 376.1215 - val_loss: 345.1811 - val_mae: 16.2925 - val_mse: 345.1811\n",
            "Epoch 5/100\n",
            "13/13 [==============================] - 0s 7ms/step - loss: 278.4564 - mae: 14.2642 - mse: 278.4564 - val_loss: 236.0614 - val_mae: 13.2345 - val_mse: 236.0614\n",
            "Epoch 6/100\n",
            "13/13 [==============================] - 0s 6ms/step - loss: 175.7943 - mae: 10.8729 - mse: 175.7943 - val_loss: 136.3186 - val_mae: 9.7330 - val_mse: 136.3186\n",
            "Epoch 7/100\n",
            "13/13 [==============================] - 0s 7ms/step - loss: 96.0264 - mae: 7.6274 - mse: 96.0264 - val_loss: 78.2552 - val_mae: 7.1390 - val_mse: 78.2552\n",
            "Epoch 8/100\n",
            "13/13 [==============================] - 0s 6ms/step - loss: 58.0781 - mae: 5.8641 - mse: 58.0781 - val_loss: 59.6285 - val_mae: 6.1135 - val_mse: 59.6285\n",
            "Epoch 9/100\n",
            "13/13 [==============================] - 0s 7ms/step - loss: 45.2195 - mae: 5.0708 - mse: 45.2195 - val_loss: 47.9418 - val_mae: 5.4695 - val_mse: 47.9418\n",
            "Epoch 10/100\n",
            "13/13 [==============================] - 0s 5ms/step - loss: 35.8551 - mae: 4.4522 - mse: 35.8551 - val_loss: 40.6013 - val_mae: 5.0601 - val_mse: 40.6013\n",
            "Epoch 11/100\n",
            "13/13 [==============================] - 0s 6ms/step - loss: 30.5872 - mae: 4.0554 - mse: 30.5872 - val_loss: 37.0536 - val_mae: 4.8178 - val_mse: 37.0536\n",
            "Epoch 12/100\n",
            "13/13 [==============================] - 0s 6ms/step - loss: 26.9002 - mae: 3.7697 - mse: 26.9002 - val_loss: 34.0855 - val_mae: 4.5865 - val_mse: 34.0855\n",
            "Epoch 13/100\n",
            "13/13 [==============================] - 0s 5ms/step - loss: 24.7966 - mae: 3.5861 - mse: 24.7966 - val_loss: 32.1689 - val_mae: 4.4301 - val_mse: 32.1689\n",
            "Epoch 14/100\n",
            "13/13 [==============================] - 0s 5ms/step - loss: 23.3186 - mae: 3.4676 - mse: 23.3186 - val_loss: 30.6038 - val_mae: 4.2963 - val_mse: 30.6038\n",
            "Epoch 15/100\n",
            "13/13 [==============================] - 0s 5ms/step - loss: 22.0465 - mae: 3.3836 - mse: 22.0465 - val_loss: 30.0677 - val_mae: 4.2418 - val_mse: 30.0677\n",
            "Epoch 16/100\n",
            "13/13 [==============================] - 0s 6ms/step - loss: 20.8542 - mae: 3.2844 - mse: 20.8542 - val_loss: 28.9757 - val_mae: 4.1376 - val_mse: 28.9757\n",
            "Epoch 17/100\n",
            "13/13 [==============================] - 0s 6ms/step - loss: 19.8327 - mae: 3.1995 - mse: 19.8327 - val_loss: 28.1398 - val_mae: 4.0534 - val_mse: 28.1398\n",
            "Epoch 18/100\n",
            "13/13 [==============================] - 0s 5ms/step - loss: 18.9374 - mae: 3.1345 - mse: 18.9374 - val_loss: 27.3492 - val_mae: 3.9840 - val_mse: 27.3492\n",
            "Epoch 19/100\n",
            "13/13 [==============================] - 0s 7ms/step - loss: 18.1896 - mae: 3.0675 - mse: 18.1896 - val_loss: 26.2634 - val_mae: 3.8719 - val_mse: 26.2634\n",
            "Epoch 20/100\n",
            "13/13 [==============================] - 0s 7ms/step - loss: 17.3103 - mae: 2.9936 - mse: 17.3103 - val_loss: 26.3691 - val_mae: 3.8613 - val_mse: 26.3691\n",
            "Epoch 21/100\n",
            "13/13 [==============================] - 0s 5ms/step - loss: 16.7389 - mae: 2.9636 - mse: 16.7389 - val_loss: 26.3665 - val_mae: 3.8360 - val_mse: 26.3665\n",
            "Epoch 22/100\n",
            "13/13 [==============================] - 0s 6ms/step - loss: 16.0063 - mae: 2.8700 - mse: 16.0063 - val_loss: 25.2167 - val_mae: 3.7180 - val_mse: 25.2167\n",
            "Epoch 23/100\n",
            "13/13 [==============================] - 0s 5ms/step - loss: 15.3966 - mae: 2.8175 - mse: 15.3966 - val_loss: 24.9966 - val_mae: 3.6846 - val_mse: 24.9966\n",
            "Epoch 24/100\n",
            "13/13 [==============================] - 0s 7ms/step - loss: 14.9112 - mae: 2.7863 - mse: 14.9112 - val_loss: 25.0131 - val_mae: 3.6830 - val_mse: 25.0131\n",
            "Epoch 25/100\n",
            "13/13 [==============================] - 0s 5ms/step - loss: 14.4753 - mae: 2.7464 - mse: 14.4753 - val_loss: 24.5488 - val_mae: 3.6284 - val_mse: 24.5488\n",
            "Epoch 26/100\n",
            "13/13 [==============================] - 0s 6ms/step - loss: 14.1496 - mae: 2.7141 - mse: 14.1496 - val_loss: 24.9865 - val_mae: 3.6377 - val_mse: 24.9865\n",
            "Epoch 27/100\n",
            "13/13 [==============================] - 0s 7ms/step - loss: 13.6878 - mae: 2.6686 - mse: 13.6878 - val_loss: 23.9449 - val_mae: 3.5502 - val_mse: 23.9449\n",
            "Epoch 28/100\n",
            "13/13 [==============================] - 0s 5ms/step - loss: 13.3020 - mae: 2.6215 - mse: 13.3020 - val_loss: 23.8804 - val_mae: 3.5154 - val_mse: 23.8804\n",
            "Epoch 29/100\n",
            "13/13 [==============================] - 0s 7ms/step - loss: 12.9331 - mae: 2.5946 - mse: 12.9331 - val_loss: 23.9407 - val_mae: 3.5197 - val_mse: 23.9407\n",
            "Epoch 30/100\n",
            "13/13 [==============================] - 0s 6ms/step - loss: 12.6238 - mae: 2.5725 - mse: 12.6238 - val_loss: 23.7548 - val_mae: 3.4858 - val_mse: 23.7548\n",
            "Epoch 31/100\n",
            "13/13 [==============================] - 0s 6ms/step - loss: 12.2923 - mae: 2.5330 - mse: 12.2923 - val_loss: 23.4375 - val_mae: 3.4377 - val_mse: 23.4375\n",
            "Epoch 32/100\n",
            "13/13 [==============================] - 0s 7ms/step - loss: 12.0589 - mae: 2.5121 - mse: 12.0589 - val_loss: 23.7533 - val_mae: 3.4266 - val_mse: 23.7533\n",
            "Epoch 33/100\n",
            "13/13 [==============================] - 0s 6ms/step - loss: 11.7215 - mae: 2.4762 - mse: 11.7215 - val_loss: 23.4553 - val_mae: 3.3974 - val_mse: 23.4553\n",
            "Epoch 34/100\n",
            "13/13 [==============================] - 0s 6ms/step - loss: 11.5008 - mae: 2.4528 - mse: 11.5008 - val_loss: 23.3283 - val_mae: 3.3787 - val_mse: 23.3283\n",
            "Epoch 35/100\n",
            "13/13 [==============================] - 0s 6ms/step - loss: 11.2814 - mae: 2.4295 - mse: 11.2814 - val_loss: 23.5165 - val_mae: 3.3527 - val_mse: 23.5165\n",
            "Epoch 36/100\n",
            "13/13 [==============================] - 0s 5ms/step - loss: 11.0590 - mae: 2.3970 - mse: 11.0590 - val_loss: 23.4562 - val_mae: 3.3432 - val_mse: 23.4562\n",
            "Epoch 37/100\n",
            "13/13 [==============================] - 0s 7ms/step - loss: 10.9401 - mae: 2.3972 - mse: 10.9401 - val_loss: 23.3905 - val_mae: 3.3239 - val_mse: 23.3905\n",
            "Epoch 38/100\n",
            "13/13 [==============================] - 0s 6ms/step - loss: 10.7754 - mae: 2.3679 - mse: 10.7754 - val_loss: 23.2067 - val_mae: 3.2973 - val_mse: 23.2067\n",
            "Epoch 39/100\n",
            "13/13 [==============================] - 0s 6ms/step - loss: 10.6787 - mae: 2.3728 - mse: 10.6787 - val_loss: 23.5365 - val_mae: 3.3120 - val_mse: 23.5365\n",
            "Epoch 40/100\n",
            "13/13 [==============================] - 0s 5ms/step - loss: 10.5452 - mae: 2.3456 - mse: 10.5452 - val_loss: 22.6912 - val_mae: 3.2264 - val_mse: 22.6912\n",
            "Epoch 41/100\n",
            "13/13 [==============================] - 0s 7ms/step - loss: 10.3878 - mae: 2.3228 - mse: 10.3878 - val_loss: 22.9271 - val_mae: 3.2534 - val_mse: 22.9271\n",
            "Epoch 42/100\n",
            "13/13 [==============================] - 0s 6ms/step - loss: 10.2425 - mae: 2.3295 - mse: 10.2425 - val_loss: 22.8740 - val_mae: 3.2349 - val_mse: 22.8740\n",
            "Epoch 43/100\n",
            "13/13 [==============================] - 0s 6ms/step - loss: 10.1219 - mae: 2.3016 - mse: 10.1219 - val_loss: 22.6956 - val_mae: 3.2070 - val_mse: 22.6956\n",
            "Epoch 44/100\n",
            "13/13 [==============================] - 0s 5ms/step - loss: 10.0896 - mae: 2.3011 - mse: 10.0896 - val_loss: 23.0598 - val_mae: 3.2275 - val_mse: 23.0598\n",
            "Epoch 45/100\n",
            "13/13 [==============================] - 0s 6ms/step - loss: 9.8759 - mae: 2.2734 - mse: 9.8759 - val_loss: 22.7226 - val_mae: 3.1817 - val_mse: 22.7226\n",
            "Epoch 46/100\n",
            "13/13 [==============================] - 0s 6ms/step - loss: 9.8135 - mae: 2.2731 - mse: 9.8135 - val_loss: 22.8341 - val_mae: 3.1822 - val_mse: 22.8341\n",
            "Epoch 47/100\n",
            "13/13 [==============================] - 0s 6ms/step - loss: 9.7611 - mae: 2.2540 - mse: 9.7611 - val_loss: 22.1940 - val_mae: 3.1457 - val_mse: 22.1940\n",
            "Epoch 48/100\n",
            "13/13 [==============================] - 0s 6ms/step - loss: 9.6286 - mae: 2.2475 - mse: 9.6286 - val_loss: 23.0551 - val_mae: 3.2015 - val_mse: 23.0551\n",
            "Epoch 49/100\n",
            "13/13 [==============================] - 0s 5ms/step - loss: 9.5549 - mae: 2.2466 - mse: 9.5549 - val_loss: 22.3186 - val_mae: 3.1238 - val_mse: 22.3186\n",
            "Epoch 50/100\n",
            "13/13 [==============================] - 0s 6ms/step - loss: 9.4871 - mae: 2.2217 - mse: 9.4871 - val_loss: 22.5375 - val_mae: 3.1318 - val_mse: 22.5375\n",
            "Epoch 51/100\n",
            "13/13 [==============================] - 0s 5ms/step - loss: 9.3874 - mae: 2.2137 - mse: 9.3874 - val_loss: 22.4913 - val_mae: 3.1238 - val_mse: 22.4913\n",
            "Epoch 52/100\n",
            "13/13 [==============================] - 0s 5ms/step - loss: 9.3510 - mae: 2.2093 - mse: 9.3510 - val_loss: 22.1237 - val_mae: 3.0959 - val_mse: 22.1237\n",
            "Epoch 53/100\n",
            "13/13 [==============================] - 0s 7ms/step - loss: 9.4125 - mae: 2.2032 - mse: 9.4125 - val_loss: 21.9447 - val_mae: 3.0943 - val_mse: 21.9447\n",
            "Epoch 54/100\n",
            "13/13 [==============================] - 0s 6ms/step - loss: 9.1960 - mae: 2.1942 - mse: 9.1960 - val_loss: 22.8965 - val_mae: 3.1581 - val_mse: 22.8965\n",
            "Epoch 55/100\n",
            "13/13 [==============================] - 0s 5ms/step - loss: 9.2990 - mae: 2.2248 - mse: 9.2990 - val_loss: 21.9428 - val_mae: 3.0714 - val_mse: 21.9428\n",
            "Epoch 56/100\n",
            "13/13 [==============================] - 0s 6ms/step - loss: 9.1150 - mae: 2.1707 - mse: 9.1150 - val_loss: 22.4963 - val_mae: 3.0962 - val_mse: 22.4963\n",
            "Epoch 57/100\n",
            "13/13 [==============================] - 0s 5ms/step - loss: 9.0165 - mae: 2.1694 - mse: 9.0165 - val_loss: 22.0147 - val_mae: 3.0650 - val_mse: 22.0147\n",
            "Epoch 58/100\n",
            "13/13 [==============================] - 0s 5ms/step - loss: 8.9211 - mae: 2.1595 - mse: 8.9211 - val_loss: 22.1234 - val_mae: 3.0728 - val_mse: 22.1234\n",
            "Epoch 59/100\n",
            "13/13 [==============================] - 0s 6ms/step - loss: 8.8835 - mae: 2.1474 - mse: 8.8835 - val_loss: 21.9738 - val_mae: 3.0640 - val_mse: 21.9738\n",
            "Epoch 60/100\n",
            "13/13 [==============================] - 0s 6ms/step - loss: 8.8451 - mae: 2.1466 - mse: 8.8451 - val_loss: 21.6892 - val_mae: 3.0359 - val_mse: 21.6892\n",
            "Epoch 61/100\n",
            "13/13 [==============================] - 0s 7ms/step - loss: 8.7314 - mae: 2.1279 - mse: 8.7314 - val_loss: 22.1140 - val_mae: 3.0609 - val_mse: 22.1140\n",
            "Epoch 62/100\n",
            "13/13 [==============================] - 0s 7ms/step - loss: 8.7066 - mae: 2.1339 - mse: 8.7066 - val_loss: 21.8913 - val_mae: 3.0399 - val_mse: 21.8913\n",
            "Epoch 63/100\n",
            "13/13 [==============================] - 0s 9ms/step - loss: 8.6964 - mae: 2.1213 - mse: 8.6964 - val_loss: 21.1595 - val_mae: 3.0057 - val_mse: 21.1595\n",
            "Epoch 64/100\n",
            "13/13 [==============================] - 0s 9ms/step - loss: 8.6323 - mae: 2.1329 - mse: 8.6323 - val_loss: 22.1129 - val_mae: 3.0838 - val_mse: 22.1129\n",
            "Epoch 65/100\n",
            "13/13 [==============================] - 0s 7ms/step - loss: 8.5522 - mae: 2.1274 - mse: 8.5522 - val_loss: 21.4790 - val_mae: 3.0018 - val_mse: 21.4790\n",
            "Epoch 66/100\n",
            "13/13 [==============================] - 0s 7ms/step - loss: 8.6051 - mae: 2.0866 - mse: 8.6051 - val_loss: 21.2037 - val_mae: 2.9924 - val_mse: 21.2037\n",
            "Epoch 67/100\n",
            "13/13 [==============================] - 0s 7ms/step - loss: 8.4105 - mae: 2.0874 - mse: 8.4105 - val_loss: 21.6152 - val_mae: 3.0175 - val_mse: 21.6152\n",
            "Epoch 68/100\n",
            "13/13 [==============================] - 0s 7ms/step - loss: 8.3561 - mae: 2.0857 - mse: 8.3561 - val_loss: 21.5126 - val_mae: 2.9967 - val_mse: 21.5126\n",
            "Epoch 69/100\n",
            "13/13 [==============================] - 0s 8ms/step - loss: 8.3114 - mae: 2.0728 - mse: 8.3114 - val_loss: 21.6336 - val_mae: 3.0170 - val_mse: 21.6336\n",
            "Epoch 70/100\n",
            "13/13 [==============================] - 0s 8ms/step - loss: 8.2464 - mae: 2.0604 - mse: 8.2464 - val_loss: 21.1356 - val_mae: 2.9691 - val_mse: 21.1356\n",
            "Epoch 71/100\n",
            "13/13 [==============================] - 0s 8ms/step - loss: 8.1842 - mae: 2.0587 - mse: 8.1842 - val_loss: 21.3756 - val_mae: 2.9933 - val_mse: 21.3756\n",
            "Epoch 72/100\n",
            "13/13 [==============================] - 0s 9ms/step - loss: 8.1979 - mae: 2.0630 - mse: 8.1979 - val_loss: 21.0538 - val_mae: 2.9705 - val_mse: 21.0538\n",
            "Epoch 73/100\n",
            "13/13 [==============================] - 0s 7ms/step - loss: 8.2160 - mae: 2.0593 - mse: 8.2160 - val_loss: 21.2470 - val_mae: 2.9782 - val_mse: 21.2470\n",
            "Epoch 74/100\n",
            "13/13 [==============================] - 0s 9ms/step - loss: 8.0946 - mae: 2.0421 - mse: 8.0946 - val_loss: 21.3483 - val_mae: 2.9762 - val_mse: 21.3483\n",
            "Epoch 75/100\n",
            "13/13 [==============================] - 0s 8ms/step - loss: 8.2071 - mae: 2.0512 - mse: 8.2071 - val_loss: 20.8138 - val_mae: 2.9388 - val_mse: 20.8138\n",
            "Epoch 76/100\n",
            "13/13 [==============================] - 0s 7ms/step - loss: 7.9872 - mae: 2.0349 - mse: 7.9872 - val_loss: 21.2449 - val_mae: 2.9899 - val_mse: 21.2449\n",
            "Epoch 77/100\n",
            "13/13 [==============================] - 0s 7ms/step - loss: 7.9680 - mae: 2.0223 - mse: 7.9680 - val_loss: 20.7967 - val_mae: 2.9341 - val_mse: 20.7967\n",
            "Epoch 78/100\n",
            "13/13 [==============================] - 0s 8ms/step - loss: 7.8907 - mae: 2.0036 - mse: 7.8907 - val_loss: 20.5189 - val_mae: 2.9077 - val_mse: 20.5189\n",
            "Epoch 79/100\n",
            "13/13 [==============================] - 0s 10ms/step - loss: 7.8021 - mae: 1.9973 - mse: 7.8021 - val_loss: 21.1532 - val_mae: 2.9663 - val_mse: 21.1532\n",
            "Epoch 80/100\n",
            "13/13 [==============================] - 0s 8ms/step - loss: 7.8532 - mae: 2.0179 - mse: 7.8532 - val_loss: 20.5999 - val_mae: 2.9096 - val_mse: 20.5999\n",
            "Epoch 81/100\n",
            "13/13 [==============================] - 0s 10ms/step - loss: 7.7341 - mae: 1.9942 - mse: 7.7341 - val_loss: 20.8645 - val_mae: 2.9455 - val_mse: 20.8645\n",
            "Epoch 82/100\n",
            "13/13 [==============================] - 0s 9ms/step - loss: 7.6891 - mae: 1.9939 - mse: 7.6891 - val_loss: 20.4085 - val_mae: 2.8965 - val_mse: 20.4085\n",
            "Epoch 83/100\n",
            "13/13 [==============================] - 0s 8ms/step - loss: 7.6374 - mae: 1.9754 - mse: 7.6374 - val_loss: 20.1603 - val_mae: 2.8866 - val_mse: 20.1603\n",
            "Epoch 84/100\n",
            "13/13 [==============================] - 0s 8ms/step - loss: 7.5468 - mae: 1.9749 - mse: 7.5468 - val_loss: 20.6846 - val_mae: 2.9084 - val_mse: 20.6846\n",
            "Epoch 85/100\n",
            "13/13 [==============================] - 0s 9ms/step - loss: 7.5460 - mae: 1.9724 - mse: 7.5460 - val_loss: 20.3319 - val_mae: 2.8894 - val_mse: 20.3319\n",
            "Epoch 86/100\n",
            "13/13 [==============================] - 0s 8ms/step - loss: 7.4785 - mae: 1.9541 - mse: 7.4785 - val_loss: 20.9222 - val_mae: 2.9291 - val_mse: 20.9222\n",
            "Epoch 87/100\n",
            "13/13 [==============================] - 0s 8ms/step - loss: 7.4438 - mae: 1.9618 - mse: 7.4438 - val_loss: 20.1726 - val_mae: 2.8661 - val_mse: 20.1726\n",
            "Epoch 88/100\n",
            "13/13 [==============================] - 0s 6ms/step - loss: 7.3621 - mae: 1.9481 - mse: 7.3621 - val_loss: 20.4768 - val_mae: 2.8907 - val_mse: 20.4768\n",
            "Epoch 89/100\n",
            "13/13 [==============================] - 0s 5ms/step - loss: 7.3345 - mae: 1.9389 - mse: 7.3345 - val_loss: 20.3199 - val_mae: 2.8732 - val_mse: 20.3199\n",
            "Epoch 90/100\n",
            "13/13 [==============================] - 0s 7ms/step - loss: 7.3041 - mae: 1.9371 - mse: 7.3041 - val_loss: 20.1660 - val_mae: 2.8588 - val_mse: 20.1660\n",
            "Epoch 91/100\n",
            "13/13 [==============================] - 0s 6ms/step - loss: 7.2620 - mae: 1.9407 - mse: 7.2620 - val_loss: 19.9739 - val_mae: 2.8480 - val_mse: 19.9739\n",
            "Epoch 92/100\n",
            "13/13 [==============================] - 0s 5ms/step - loss: 7.2631 - mae: 1.9155 - mse: 7.2631 - val_loss: 19.7266 - val_mae: 2.8377 - val_mse: 19.7266\n",
            "Epoch 93/100\n",
            "13/13 [==============================] - 0s 7ms/step - loss: 7.1944 - mae: 1.9273 - mse: 7.1944 - val_loss: 19.8398 - val_mae: 2.8488 - val_mse: 19.8398\n",
            "Epoch 94/100\n",
            "13/13 [==============================] - 0s 7ms/step - loss: 7.1670 - mae: 1.9165 - mse: 7.1670 - val_loss: 19.6735 - val_mae: 2.8085 - val_mse: 19.6735\n",
            "Epoch 95/100\n",
            "13/13 [==============================] - 0s 6ms/step - loss: 7.0500 - mae: 1.8890 - mse: 7.0500 - val_loss: 19.2845 - val_mae: 2.8189 - val_mse: 19.2845\n",
            "Epoch 96/100\n",
            "13/13 [==============================] - 0s 7ms/step - loss: 7.0343 - mae: 1.9054 - mse: 7.0343 - val_loss: 19.9211 - val_mae: 2.8467 - val_mse: 19.9211\n",
            "Epoch 97/100\n",
            "13/13 [==============================] - 0s 6ms/step - loss: 6.9728 - mae: 1.8905 - mse: 6.9728 - val_loss: 19.6155 - val_mae: 2.8218 - val_mse: 19.6155\n",
            "Epoch 98/100\n",
            "13/13 [==============================] - 0s 7ms/step - loss: 6.9499 - mae: 1.8847 - mse: 6.9499 - val_loss: 19.5449 - val_mae: 2.8003 - val_mse: 19.5449\n",
            "Epoch 99/100\n",
            "13/13 [==============================] - 0s 6ms/step - loss: 6.9528 - mae: 1.8949 - mse: 6.9528 - val_loss: 19.1718 - val_mae: 2.8006 - val_mse: 19.1718\n",
            "Epoch 100/100\n",
            "13/13 [==============================] - 0s 5ms/step - loss: 6.8886 - mae: 1.8665 - mse: 6.8886 - val_loss: 19.5850 - val_mae: 2.8354 - val_mse: 19.5850\n"
          ]
        }
      ]
    },
    {
      "cell_type": "code",
      "source": [
        "new_x=np.array([[0.00632,18.0,2.31,0.0,0.538,6.575,65.2,4.0900,1.0,296.0,15.3,396.90,4.98]])\n",
        "new_X=scalar.transform(new_x)\n",
        "pred=model.predict(new_X)\n",
        "print(pred)"
      ],
      "metadata": {
        "colab": {
          "base_uri": "https://localhost:8080/"
        },
        "id": "lChTEu1-kAJL",
        "outputId": "f03c98a1-0529-45aa-b337-c9828882d8c4"
      },
      "execution_count": null,
      "outputs": [
        {
          "output_type": "stream",
          "name": "stdout",
          "text": [
            "1/1 [==============================] - 0s 36ms/step\n",
            "[[26.488447]]\n"
          ]
        }
      ]
    }
  ]
}