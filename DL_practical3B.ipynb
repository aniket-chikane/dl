{
  "nbformat": 4,
  "nbformat_minor": 0,
  "metadata": {
    "colab": {
      "provenance": []
    },
    "kernelspec": {
      "name": "python3",
      "display_name": "Python 3"
    },
    "language_info": {
      "name": "python"
    }
  },
  "cells": [
    {
      "cell_type": "markdown",
      "source": [
        "Name : Rutuja Ashok JAdhav\n",
        "Roll no : 4157"
      ],
      "metadata": {
        "id": "_y0Ae6DOZ4ZK"
      }
    },
    {
      "cell_type": "code",
      "execution_count": null,
      "metadata": {
        "id": "32kYCNlxFIQ5"
      },
      "outputs": [],
      "source": [
        "import tensorflow as tf\n",
        "from tensorflow import keras\n",
        "import numpy as np \n",
        "import matplotlib.pyplot as plt\n"
      ]
    },
    {
      "cell_type": "code",
      "source": [
        "(x_train,y_train),(x_test,y_test)=keras.datasets.fashion_mnist.load_data()"
      ],
      "metadata": {
        "id": "fvcCg8TPFf_d"
      },
      "execution_count": null,
      "outputs": []
    },
    {
      "cell_type": "code",
      "source": [
        "img_rows,img_cols=28,28\n",
        "num_classes=10\n"
      ],
      "metadata": {
        "id": "qZFGqNRLFwB6"
      },
      "execution_count": null,
      "outputs": []
    },
    {
      "cell_type": "code",
      "source": [
        "x_train=x_train.reshape(x_train.shape[0],img_rows,img_cols,1)\n",
        "x_test=x_test.reshape(x_test.shape[0],img_rows,img_cols,1)"
      ],
      "metadata": {
        "id": "xzaVhKjtGAP_"
      },
      "execution_count": null,
      "outputs": []
    },
    {
      "cell_type": "code",
      "source": [
        "input_shape=(img_rows,img_cols,1)"
      ],
      "metadata": {
        "id": "izDyxff7GXZW"
      },
      "execution_count": null,
      "outputs": []
    },
    {
      "cell_type": "code",
      "source": [
        "x_train=x_train.astype('float32')\n",
        "x_test=x_test.astype('float32')\n",
        "x_train /=255\n",
        "x_test /=255"
      ],
      "metadata": {
        "id": "sVGw-nkXGhIo"
      },
      "execution_count": null,
      "outputs": []
    },
    {
      "cell_type": "code",
      "source": [
        "y_train = keras.utils.to_categorical(y_train,num_classes)\n",
        "y_test = keras.utils.to_categorical(y_test,num_classes)\n"
      ],
      "metadata": {
        "id": "gbWYVReWGzGR"
      },
      "execution_count": null,
      "outputs": []
    },
    {
      "cell_type": "code",
      "source": [
        "model = keras.Sequential([\n",
        "    keras.layers.Conv2D(32,kernel_size=(3,3),activation='relu',input_shape=input_shape),\n",
        "    keras.layers.MaxPooling2D(pool_size=(2,2)),\n",
        "    keras.layers.Dropout(0.25),\n",
        "    keras.layers.Conv2D(64,kernel_size=(3,3),activation='relu'),\n",
        "    keras.layers.MaxPooling2D(pool_size=(2,2)),\n",
        "    keras.layers.Dropout(0.25),\n",
        "    keras.layers.Flatten(),\n",
        "    keras.layers.Dense(128,activation='relu'),\n",
        "    keras.layers.Dropout(0.5),\n",
        "    keras.layers.Dense(num_classes, activation='softmax')\n",
        "\n",
        "])"
      ],
      "metadata": {
        "id": "Oe6QHYgmNwEY"
      },
      "execution_count": null,
      "outputs": []
    },
    {
      "cell_type": "code",
      "source": [
        "model.compile(loss='categorical_crossentropy',optimizer='adam',metrics=['accuracy'])"
      ],
      "metadata": {
        "id": "xEHH2d11P9eG"
      },
      "execution_count": null,
      "outputs": []
    },
    {
      "cell_type": "code",
      "source": [
        "batch_size=128\n",
        "epochs = 10"
      ],
      "metadata": {
        "id": "-_WByP1mQQoC"
      },
      "execution_count": null,
      "outputs": []
    },
    {
      "cell_type": "code",
      "source": [
        "history = model.fit(x_train,y_train,batch_size,epochs=epochs,verbose=1,validation_data=(x_test,y_test))"
      ],
      "metadata": {
        "colab": {
          "base_uri": "https://localhost:8080/"
        },
        "id": "uBn78aI2QWn-",
        "outputId": "9b0dd7f4-37ea-4fb8-e48a-fce0d25439c4"
      },
      "execution_count": null,
      "outputs": [
        {
          "output_type": "stream",
          "name": "stdout",
          "text": [
            "Epoch 1/10\n",
            "469/469 [==============================] - 72s 151ms/step - loss: 0.7053 - accuracy: 0.7400 - val_loss: 0.4593 - val_accuracy: 0.8310\n",
            "Epoch 2/10\n",
            "469/469 [==============================] - 68s 144ms/step - loss: 0.4686 - accuracy: 0.8317 - val_loss: 0.3794 - val_accuracy: 0.8644\n",
            "Epoch 3/10\n",
            "469/469 [==============================] - 67s 143ms/step - loss: 0.4052 - accuracy: 0.8531 - val_loss: 0.3357 - val_accuracy: 0.8786\n",
            "Epoch 4/10\n",
            "469/469 [==============================] - 68s 145ms/step - loss: 0.3724 - accuracy: 0.8659 - val_loss: 0.3186 - val_accuracy: 0.8841\n",
            "Epoch 5/10\n",
            "469/469 [==============================] - 79s 168ms/step - loss: 0.3509 - accuracy: 0.8724 - val_loss: 0.3044 - val_accuracy: 0.8911\n",
            "Epoch 6/10\n",
            "469/469 [==============================] - 102s 218ms/step - loss: 0.3376 - accuracy: 0.8779 - val_loss: 0.2935 - val_accuracy: 0.8921\n",
            "Epoch 7/10\n",
            "469/469 [==============================] - 78s 167ms/step - loss: 0.3222 - accuracy: 0.8827 - val_loss: 0.2899 - val_accuracy: 0.8944\n",
            "Epoch 8/10\n",
            "469/469 [==============================] - 71s 151ms/step - loss: 0.3077 - accuracy: 0.8881 - val_loss: 0.2790 - val_accuracy: 0.8978\n",
            "Epoch 9/10\n",
            "469/469 [==============================] - 62s 132ms/step - loss: 0.2991 - accuracy: 0.8914 - val_loss: 0.2733 - val_accuracy: 0.9012\n",
            "Epoch 10/10\n",
            "469/469 [==============================] - 61s 131ms/step - loss: 0.2939 - accuracy: 0.8930 - val_loss: 0.2837 - val_accuracy: 0.8953\n"
          ]
        }
      ]
    },
    {
      "cell_type": "code",
      "source": [
        "score = model.evaluate(x_test,y_test,verbose=0)\n",
        "print(\"test loss : \",score[0])\n",
        "print(\"Test Accuraccy : \",score[1])"
      ],
      "metadata": {
        "colab": {
          "base_uri": "https://localhost:8080/"
        },
        "id": "7AJy6ZZfQyVD",
        "outputId": "b9ba916a-5887-41e4-ab32-72a1bad37d16"
      },
      "execution_count": null,
      "outputs": [
        {
          "output_type": "stream",
          "name": "stdout",
          "text": [
            "test loss :  0.28369489312171936\n",
            "Test Accuraccy :  0.8952999711036682\n"
          ]
        }
      ]
    },
    {
      "cell_type": "code",
      "source": [
        "pred=model.predict(x_test)"
      ],
      "metadata": {
        "colab": {
          "base_uri": "https://localhost:8080/"
        },
        "id": "G5tJBmFCW4x-",
        "outputId": "4f36bc6f-77bf-42bf-f323-f0a2b27560ca"
      },
      "execution_count": null,
      "outputs": [
        {
          "output_type": "stream",
          "name": "stdout",
          "text": [
            "313/313 [==============================] - 4s 11ms/step\n"
          ]
        }
      ]
    },
    {
      "cell_type": "code",
      "source": [
        "labels= np.argmax(pred,axis=1)"
      ],
      "metadata": {
        "id": "6eeiKpeNXCQK"
      },
      "execution_count": null,
      "outputs": []
    },
    {
      "cell_type": "code",
      "source": [
        "num_images = 10 \n",
        "random_indices = np.random.choice(x_test.shape[0],num_images,replace=False)"
      ],
      "metadata": {
        "id": "2hVeWvgKXNWG"
      },
      "execution_count": null,
      "outputs": []
    },
    {
      "cell_type": "code",
      "source": [
        "plt.figure(figsize=(10,5))"
      ],
      "metadata": {
        "colab": {
          "base_uri": "https://localhost:8080/",
          "height": 52
        },
        "id": "pRjck4duXkeB",
        "outputId": "5f66dfc8-7612-4f45-87f0-09fd13e749a0"
      },
      "execution_count": null,
      "outputs": [
        {
          "output_type": "execute_result",
          "data": {
            "text/plain": [
              "<Figure size 1000x500 with 0 Axes>"
            ]
          },
          "metadata": {},
          "execution_count": 50
        },
        {
          "output_type": "display_data",
          "data": {
            "text/plain": [
              "<Figure size 1000x500 with 0 Axes>"
            ]
          },
          "metadata": {}
        }
      ]
    },
    {
      "cell_type": "code",
      "source": [
        "for i in range(num_images):\n",
        "  plt.subplot(2,5,i+1)\n",
        "  plt.imshow(x_test[random_indices[i]].reshape(28,28),cmap=plt.cm.gray_r)\n",
        "  plt.title(f\"label:{labels[random_indices[i]]}\")\n",
        "  plt.axis('off')\n",
        "plt.show()"
      ],
      "metadata": {
        "colab": {
          "base_uri": "https://localhost:8080/",
          "height": 346
        },
        "id": "aLFYoB5IXs0G",
        "outputId": "88f5da82-d084-4e6e-dfc1-1a2d60e2f803"
      },
      "execution_count": null,
      "outputs": [
        {
          "output_type": "display_data",
          "data": {
            "text/plain": [
              "<Figure size 640x480 with 10 Axes>"
            ],
            "image/png": "[encoded data removed]"
          },
          "metadata": {}
        }
      ]
    },
    {
      "cell_type": "code",
      "source": [],
      "metadata": {
        "id": "aWFctXsAZg8T"
      },
      "execution_count": null,
      "outputs": []
    }
  ]
}