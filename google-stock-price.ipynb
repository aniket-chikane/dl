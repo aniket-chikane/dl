{
 "cells": [
  {
   "cell_type": "code",
   "execution_count": 1,
   "id": "satisfactory-appearance",
   "metadata": {
    "_cell_guid": "b1076dfc-b9ad-4769-8c92-a6c4dae69d19",
    "_uuid": "8f2839f25d086af736a60e9eeb907d3b93b6e0e5",
    "execution": {
     "iopub.execute_input": "2021-06-18T18:28:20.979305Z",
     "iopub.status.busy": "2021-06-18T18:28:20.978195Z",
     "iopub.status.idle": "2021-06-18T18:28:21.000030Z",
     "shell.execute_reply": "2021-06-18T18:28:21.000741Z",
     "shell.execute_reply.started": "2021-06-18T18:18:32.667448Z"
    },
    "papermill": {
     "duration": 0.045477,
     "end_time": "2021-06-18T18:28:21.001064",
     "exception": false,
     "start_time": "2021-06-18T18:28:20.955587",
     "status": "completed"
    },
    "tags": []
   },
   "outputs": [
    {
     "name": "stdout",
     "output_type": "stream",
     "text": [
      "/kaggle/input/google-stock-price-train/Google_Stock_Price_Train.csv\n"
     ]
    }
   ],
   "source": [
    "import os\n",
    "for dirname, _, filenames in os.walk('/kaggle/input'):\n",
    "    for filename in filenames:\n",
    "        print(os.path.join(dirname, filename))"
   ]
  },
  {
   "cell_type": "code",
   "execution_count": 2,
   "id": "balanced-laser",
   "metadata": {
    "execution": {
     "iopub.execute_input": "2021-06-18T18:28:21.047436Z",
     "iopub.status.busy": "2021-06-18T18:28:21.046842Z",
     "iopub.status.idle": "2021-06-18T18:28:22.014158Z",
     "shell.execute_reply": "2021-06-18T18:28:22.013538Z",
     "shell.execute_reply.started": "2021-06-18T18:18:32.712640Z"
    },
    "papermill": {
     "duration": 0.990783,
     "end_time": "2021-06-18T18:28:22.014316",
     "exception": false,
     "start_time": "2021-06-18T18:28:21.023533",
     "status": "completed"
    },
    "tags": []
   },
   "outputs": [],
   "source": [
    "import pandas as pd\n",
    "import matplotlib.pyplot as plt\n",
    "import seaborn as sns\n",
    "\n",
    "import scipy.stats as stats\n",
    "\n",
    "from sklearn.model_selection import train_test_split"
   ]
  },
  {
   "cell_type": "code",
   "execution_count": 3,
   "id": "prompt-debut",
   "metadata": {
    "execution": {
     "iopub.execute_input": "2021-06-18T18:28:22.056761Z",
     "iopub.status.busy": "2021-06-18T18:28:22.056092Z",
     "iopub.status.idle": "2021-06-18T18:28:22.074320Z",
     "shell.execute_reply": "2021-06-18T18:28:22.073725Z",
     "shell.execute_reply.started": "2021-06-18T18:18:33.834457Z"
    },
    "papermill": {
     "duration": 0.041696,
     "end_time": "2021-06-18T18:28:22.074468",
     "exception": false,
     "start_time": "2021-06-18T18:28:22.032772",
     "status": "completed"
    },
    "tags": []
   },
   "outputs": [],
   "source": [
    "df = pd.read_csv(\"/kaggle/input/google-stock-price-train/Google_Stock_Price_Train.csv\")"
   ]
  },
  {
   "cell_type": "code",
   "execution_count": 4,
   "id": "little-holocaust",
   "metadata": {
    "execution": {
     "iopub.execute_input": "2021-06-18T18:28:22.121155Z",
     "iopub.status.busy": "2021-06-18T18:28:22.120535Z",
     "iopub.status.idle": "2021-06-18T18:28:22.141186Z",
     "shell.execute_reply": "2021-06-18T18:28:22.140690Z",
     "shell.execute_reply.started": "2021-06-18T18:18:33.861602Z"
    },
    "papermill": {
     "duration": 0.048351,
     "end_time": "2021-06-18T18:28:22.141320",
     "exception": false,
     "start_time": "2021-06-18T18:28:22.092969",
     "status": "completed"
    },
    "tags": []
   },
   "outputs": [
    {
     "data": {
      "text/html": [
       "<div>\n",
       "<style scoped>\n",
       "    .dataframe tbody tr th:only-of-type {\n",
       "        vertical-align: middle;\n",
       "    }\n",
       "\n",
       "    .dataframe tbody tr th {\n",
       "        vertical-align: top;\n",
       "    }\n",
       "\n",
       "    .dataframe thead th {\n",
       "        text-align: right;\n",
       "    }\n",
       "</style>\n",
       "<table border=\"1\" class=\"dataframe\">\n",
       "  <thead>\n",
       "    <tr style=\"text-align: right;\">\n",
       "      <th></th>\n",
       "      <th>Date</th>\n",
       "      <th>Open</th>\n",
       "      <th>High</th>\n",
       "      <th>Low</th>\n",
       "      <th>Close</th>\n",
       "      <th>Volume</th>\n",
       "    </tr>\n",
       "  </thead>\n",
       "  <tbody>\n",
       "    <tr>\n",
       "      <th>0</th>\n",
       "      <td>1/3/2012</td>\n",
       "      <td>325.25</td>\n",
       "      <td>332.83</td>\n",
       "      <td>324.97</td>\n",
       "      <td>663.59</td>\n",
       "      <td>7,380,500</td>\n",
       "    </tr>\n",
       "    <tr>\n",
       "      <th>1</th>\n",
       "      <td>1/4/2012</td>\n",
       "      <td>331.27</td>\n",
       "      <td>333.87</td>\n",
       "      <td>329.08</td>\n",
       "      <td>666.45</td>\n",
       "      <td>5,749,400</td>\n",
       "    </tr>\n",
       "    <tr>\n",
       "      <th>2</th>\n",
       "      <td>1/5/2012</td>\n",
       "      <td>329.83</td>\n",
       "      <td>330.75</td>\n",
       "      <td>326.89</td>\n",
       "      <td>657.21</td>\n",
       "      <td>6,590,300</td>\n",
       "    </tr>\n",
       "    <tr>\n",
       "      <th>3</th>\n",
       "      <td>1/6/2012</td>\n",
       "      <td>328.34</td>\n",
       "      <td>328.77</td>\n",
       "      <td>323.68</td>\n",
       "      <td>648.24</td>\n",
       "      <td>5,405,900</td>\n",
       "    </tr>\n",
       "    <tr>\n",
       "      <th>4</th>\n",
       "      <td>1/9/2012</td>\n",
       "      <td>322.04</td>\n",
       "      <td>322.29</td>\n",
       "      <td>309.46</td>\n",
       "      <td>620.76</td>\n",
       "      <td>11,688,800</td>\n",
       "    </tr>\n",
       "  </tbody>\n",
       "</table>\n",
       "</div>"
      ],
      "text/plain": [
       "       Date    Open    High     Low   Close      Volume\n",
       "0  1/3/2012  325.25  332.83  324.97  663.59   7,380,500\n",
       "1  1/4/2012  331.27  333.87  329.08  666.45   5,749,400\n",
       "2  1/5/2012  329.83  330.75  326.89  657.21   6,590,300\n",
       "3  1/6/2012  328.34  328.77  323.68  648.24   5,405,900\n",
       "4  1/9/2012  322.04  322.29  309.46  620.76  11,688,800"
      ]
     },
     "execution_count": 4,
     "metadata": {},
     "output_type": "execute_result"
    }
   ],
   "source": [
    "df.head()"
   ]
  },
  {
   "cell_type": "code",
   "execution_count": 5,
   "id": "revised-luther",
   "metadata": {
    "execution": {
     "iopub.execute_input": "2021-06-18T18:28:22.179209Z",
     "iopub.status.busy": "2021-06-18T18:28:22.178689Z",
     "iopub.status.idle": "2021-06-18T18:28:22.187946Z",
     "shell.execute_reply": "2021-06-18T18:28:22.188470Z",
     "shell.execute_reply.started": "2021-06-18T18:18:33.898223Z"
    },
    "papermill": {
     "duration": 0.029628,
     "end_time": "2021-06-18T18:28:22.188676",
     "exception": false,
     "start_time": "2021-06-18T18:28:22.159048",
     "status": "completed"
    },
    "tags": []
   },
   "outputs": [
    {
     "data": {
      "text/plain": [
       "0       <class 'str'>\n",
       "1       <class 'str'>\n",
       "2       <class 'str'>\n",
       "3       <class 'str'>\n",
       "4       <class 'str'>\n",
       "            ...      \n",
       "1253    <class 'str'>\n",
       "1254    <class 'str'>\n",
       "1255    <class 'str'>\n",
       "1256    <class 'str'>\n",
       "1257    <class 'str'>\n",
       "Name: Volume, Length: 1258, dtype: object"
      ]
     },
     "execution_count": 5,
     "metadata": {},
     "output_type": "execute_result"
    }
   ],
   "source": [
    "df['Volume'].apply(type)"
   ]
  },
  {
   "cell_type": "code",
   "execution_count": 6,
   "id": "arbitrary-toronto",
   "metadata": {
    "execution": {
     "iopub.execute_input": "2021-06-18T18:28:22.240663Z",
     "iopub.status.busy": "2021-06-18T18:28:22.240012Z",
     "iopub.status.idle": "2021-06-18T18:28:22.243137Z",
     "shell.execute_reply": "2021-06-18T18:28:22.242674Z",
     "shell.execute_reply.started": "2021-06-18T18:18:33.910715Z"
    },
    "papermill": {
     "duration": 0.03496,
     "end_time": "2021-06-18T18:28:22.243255",
     "exception": false,
     "start_time": "2021-06-18T18:28:22.208295",
     "status": "completed"
    },
    "tags": []
   },
   "outputs": [],
   "source": [
    "obj_cols = ['Volume', 'Close']\n",
    "df[obj_cols] = df[obj_cols].replace('[\\,,]', '', regex=True).astype(float)\n",
    "# df['Close'] = df['Close'].replace('[\\,,]', '', regex=True).astype(float)"
   ]
  },
  {
   "cell_type": "code",
   "execution_count": 7,
   "id": "daily-trash",
   "metadata": {
    "execution": {
     "iopub.execute_input": "2021-06-18T18:28:22.284019Z",
     "iopub.status.busy": "2021-06-18T18:28:22.283094Z",
     "iopub.status.idle": "2021-06-18T18:28:22.301714Z",
     "shell.execute_reply": "2021-06-18T18:28:22.302165Z",
     "shell.execute_reply.started": "2021-06-18T18:18:33.935644Z"
    },
    "papermill": {
     "duration": 0.040352,
     "end_time": "2021-06-18T18:28:22.302325",
     "exception": false,
     "start_time": "2021-06-18T18:28:22.261973",
     "status": "completed"
    },
    "tags": []
   },
   "outputs": [
    {
     "name": "stdout",
     "output_type": "stream",
     "text": [
      "<class 'pandas.core.frame.DataFrame'>\n",
      "RangeIndex: 1258 entries, 0 to 1257\n",
      "Data columns (total 6 columns):\n",
      " #   Column  Non-Null Count  Dtype  \n",
      "---  ------  --------------  -----  \n",
      " 0   Date    1258 non-null   object \n",
      " 1   Open    1258 non-null   float64\n",
      " 2   High    1258 non-null   float64\n",
      " 3   Low     1258 non-null   float64\n",
      " 4   Close   1258 non-null   float64\n",
      " 5   Volume  1258 non-null   float64\n",
      "dtypes: float64(5), object(1)\n",
      "memory usage: 59.1+ KB\n"
     ]
    }
   ],
   "source": [
    "df.info()"
   ]
  },
  {
   "cell_type": "code",
   "execution_count": 8,
   "id": "casual-invalid",
   "metadata": {
    "execution": {
     "iopub.execute_input": "2021-06-18T18:28:22.344811Z",
     "iopub.status.busy": "2021-06-18T18:28:22.344164Z",
     "iopub.status.idle": "2021-06-18T18:28:22.346712Z",
     "shell.execute_reply": "2021-06-18T18:28:22.347183Z",
     "shell.execute_reply.started": "2021-06-18T18:18:33.960403Z"
    },
    "papermill": {
     "duration": 0.026525,
     "end_time": "2021-06-18T18:28:22.347338",
     "exception": false,
     "start_time": "2021-06-18T18:28:22.320813",
     "status": "completed"
    },
    "tags": []
   },
   "outputs": [
    {
     "data": {
      "text/plain": [
       "(1258, 6)"
      ]
     },
     "execution_count": 8,
     "metadata": {},
     "output_type": "execute_result"
    }
   ],
   "source": [
    "df2 = df.copy()\n",
    "df2.shape"
   ]
  },
  {
   "cell_type": "code",
   "execution_count": 9,
   "id": "registered-drunk",
   "metadata": {
    "execution": {
     "iopub.execute_input": "2021-06-18T18:28:22.389850Z",
     "iopub.status.busy": "2021-06-18T18:28:22.389264Z",
     "iopub.status.idle": "2021-06-18T18:28:22.413556Z",
     "shell.execute_reply": "2021-06-18T18:28:22.412947Z",
     "shell.execute_reply.started": "2021-06-18T18:18:33.979369Z"
    },
    "papermill": {
     "duration": 0.046736,
     "end_time": "2021-06-18T18:28:22.413724",
     "exception": false,
     "start_time": "2021-06-18T18:28:22.366988",
     "status": "completed"
    },
    "tags": []
   },
   "outputs": [
    {
     "data": {
      "text/plain": [
       "count           1258\n",
       "unique          1258\n",
       "top       10/30/2015\n",
       "freq               1\n",
       "Name: Date, dtype: object"
      ]
     },
     "execution_count": 9,
     "metadata": {},
     "output_type": "execute_result"
    }
   ],
   "source": [
    "df2['Date'].describe()"
   ]
  },
  {
   "cell_type": "code",
   "execution_count": 10,
   "id": "general-aurora",
   "metadata": {
    "execution": {
     "iopub.execute_input": "2021-06-18T18:28:22.458141Z",
     "iopub.status.busy": "2021-06-18T18:28:22.457241Z",
     "iopub.status.idle": "2021-06-18T18:28:22.461954Z",
     "shell.execute_reply": "2021-06-18T18:28:22.462408Z",
     "shell.execute_reply.started": "2021-06-18T18:18:34.012645Z"
    },
    "papermill": {
     "duration": 0.029608,
     "end_time": "2021-06-18T18:28:22.462585",
     "exception": false,
     "start_time": "2021-06-18T18:28:22.432977",
     "status": "completed"
    },
    "tags": []
   },
   "outputs": [
    {
     "data": {
      "text/plain": [
       "(1258, 5)"
      ]
     },
     "execution_count": 10,
     "metadata": {},
     "output_type": "execute_result"
    }
   ],
   "source": [
    "# Drop Date\n",
    "df2.drop(['Date'],axis=1, inplace=True)\n",
    "df2.shape"
   ]
  },
  {
   "cell_type": "code",
   "execution_count": 11,
   "id": "together-experience",
   "metadata": {
    "execution": {
     "iopub.execute_input": "2021-06-18T18:28:22.504382Z",
     "iopub.status.busy": "2021-06-18T18:28:22.503420Z",
     "iopub.status.idle": "2021-06-18T18:28:22.510612Z",
     "shell.execute_reply": "2021-06-18T18:28:22.510999Z",
     "shell.execute_reply.started": "2021-06-18T18:24:09.134580Z"
    },
    "papermill": {
     "duration": 0.029673,
     "end_time": "2021-06-18T18:28:22.511147",
     "exception": false,
     "start_time": "2021-06-18T18:28:22.481474",
     "status": "completed"
    },
    "tags": []
   },
   "outputs": [
    {
     "name": "stdout",
     "output_type": "stream",
     "text": [
      "shape of data_x (1258, 4)\n",
      "shape of data_y (1258, 1)\n"
     ]
    }
   ],
   "source": [
    "X, y = df2.iloc[:, :-1],df.iloc[:, [-1]]\n",
    "print('shape of data_x {}\\nshape of data_y {}'.format(X.shape,y.shape))"
   ]
  },
  {
   "cell_type": "code",
   "execution_count": 12,
   "id": "compressed-saver",
   "metadata": {
    "execution": {
     "iopub.execute_input": "2021-06-18T18:28:22.560867Z",
     "iopub.status.busy": "2021-06-18T18:28:22.559637Z",
     "iopub.status.idle": "2021-06-18T18:28:22.564992Z",
     "shell.execute_reply": "2021-06-18T18:28:22.564256Z",
     "shell.execute_reply.started": "2021-06-18T18:24:09.982575Z"
    },
    "papermill": {
     "duration": 0.034071,
     "end_time": "2021-06-18T18:28:22.565167",
     "exception": false,
     "start_time": "2021-06-18T18:28:22.531096",
     "status": "completed"
    },
    "tags": []
   },
   "outputs": [
    {
     "name": "stdout",
     "output_type": "stream",
     "text": [
      "X_train: (1006, 4)\tX_test: (252, 4)\n",
      "y_train: (1006, 1)\ty_test: (252, 1)\n"
     ]
    }
   ],
   "source": [
    "X_train, X_test, y_train, y_test = train_test_split(X, y, test_size=0.2, random_state=42)\n",
    "\n",
    "X_train.reset_index(drop=True, inplace=True)\n",
    "X_test.reset_index(drop=True, inplace=True)\n",
    "y_train.reset_index(drop=True, inplace=True)\n",
    "y_test.reset_index(drop=True, inplace=True)\n",
    "\n",
    "print('X_train: {}\\tX_test: {}\\ny_train: {}\\ty_test: {}'.format(X_train.shape,X_test.shape,y_train.shape,y_test.shape))"
   ]
  },
  {
   "cell_type": "code",
   "execution_count": 13,
   "id": "quick-symbol",
   "metadata": {
    "execution": {
     "iopub.execute_input": "2021-06-18T18:28:22.610749Z",
     "iopub.status.busy": "2021-06-18T18:28:22.609957Z",
     "iopub.status.idle": "2021-06-18T18:28:22.614163Z",
     "shell.execute_reply": "2021-06-18T18:28:22.613546Z",
     "shell.execute_reply.started": "2021-06-18T18:24:10.912372Z"
    },
    "papermill": {
     "duration": 0.027725,
     "end_time": "2021-06-18T18:28:22.614317",
     "exception": false,
     "start_time": "2021-06-18T18:28:22.586592",
     "status": "completed"
    },
    "tags": []
   },
   "outputs": [],
   "source": [
    "X_temp = X_train.values\n",
    "y_temp = y_train.values"
   ]
  },
  {
   "cell_type": "code",
   "execution_count": 14,
   "id": "popular-lotus",
   "metadata": {
    "execution": {
     "iopub.execute_input": "2021-06-18T18:28:22.662833Z",
     "iopub.status.busy": "2021-06-18T18:28:22.662149Z",
     "iopub.status.idle": "2021-06-18T18:28:22.664859Z",
     "shell.execute_reply": "2021-06-18T18:28:22.665623Z",
     "shell.execute_reply.started": "2021-06-18T04:56:39.737406Z"
    },
    "papermill": {
     "duration": 0.029552,
     "end_time": "2021-06-18T18:28:22.665831",
     "exception": false,
     "start_time": "2021-06-18T18:28:22.636279",
     "status": "completed"
    },
    "tags": []
   },
   "outputs": [],
   "source": [
    "# X_train = X_temp\n",
    "# y_train = y_temp"
   ]
  },
  {
   "cell_type": "code",
   "execution_count": 15,
   "id": "defensive-luxury",
   "metadata": {
    "execution": {
     "iopub.execute_input": "2021-06-18T18:28:22.727399Z",
     "iopub.status.busy": "2021-06-18T18:28:22.726487Z",
     "iopub.status.idle": "2021-06-18T18:28:27.827736Z",
     "shell.execute_reply": "2021-06-18T18:28:27.827159Z",
     "shell.execute_reply.started": "2021-06-18T18:24:18.234308Z"
    },
    "papermill": {
     "duration": 5.135588,
     "end_time": "2021-06-18T18:28:27.827886",
     "exception": false,
     "start_time": "2021-06-18T18:28:22.692298",
     "status": "completed"
    },
    "tags": []
   },
   "outputs": [],
   "source": [
    "from keras.models import Sequential\n",
    "from keras.layers import Dense\n",
    "from keras.layers import LSTM\n",
    "from keras.layers import Dropout\n",
    "import numpy as np\n",
    "from matplotlib import pyplot"
   ]
  },
  {
   "cell_type": "code",
   "execution_count": 16,
   "id": "collective-berkeley",
   "metadata": {
    "execution": {
     "iopub.execute_input": "2021-06-18T18:28:27.878219Z",
     "iopub.status.busy": "2021-06-18T18:28:27.877664Z",
     "iopub.status.idle": "2021-06-18T18:28:27.879276Z",
     "shell.execute_reply": "2021-06-18T18:28:27.879670Z",
     "shell.execute_reply.started": "2021-06-18T18:24:24.742528Z"
    },
    "papermill": {
     "duration": 0.031193,
     "end_time": "2021-06-18T18:28:27.879825",
     "exception": false,
     "start_time": "2021-06-18T18:28:27.848632",
     "status": "completed"
    },
    "tags": []
   },
   "outputs": [],
   "source": [
    "# convert series to supervised learning\n",
    "def series_to_supervised(data, n_in=1, n_out=1, dropnan=True):\n",
    "\tn_vars = 1 if type(data) is list else data.shape[1]\n",
    "\tdf = DataFrame(data)\n",
    "\tcols, names = list(), list()\n",
    "\t# input sequence (t-n, ... t-1)\n",
    "\tfor i in range(n_in, 0, -1):\n",
    "\t\tcols.append(df.shift(i))\n",
    "\t\tnames += [('var%d(t-%d)' % (j+1, i)) for j in range(n_vars)]\n",
    "\t# forecast sequence (t, t+1, ... t+n)\n",
    "\tfor i in range(0, n_out):\n",
    "\t\tcols.append(df.shift(-i))\n",
    "\t\tif i == 0:\n",
    "\t\t\tnames += [('var%d(t)' % (j+1)) for j in range(n_vars)]\n",
    "\t\telse:\n",
    "\t\t\tnames += [('var%d(t+%d)' % (j+1, i)) for j in range(n_vars)]\n",
    "\t# put it all together\n",
    "\tagg = concat(cols, axis=1)\n",
    "\tagg.columns = names\n",
    "\t# drop rows with NaN values\n",
    "\tif dropnan:\n",
    "\t\tagg.dropna(inplace=True)\n",
    "\treturn agg"
   ]
  },
  {
   "cell_type": "code",
   "execution_count": 17,
   "id": "located-nation",
   "metadata": {
    "execution": {
     "iopub.execute_input": "2021-06-18T18:28:27.922575Z",
     "iopub.status.busy": "2021-06-18T18:28:27.921991Z",
     "iopub.status.idle": "2021-06-18T18:28:27.924751Z",
     "shell.execute_reply": "2021-06-18T18:28:27.925255Z",
     "shell.execute_reply.started": "2021-06-18T05:03:29.988770Z"
    },
    "papermill": {
     "duration": 0.025024,
     "end_time": "2021-06-18T18:28:27.925384",
     "exception": false,
     "start_time": "2021-06-18T18:28:27.900360",
     "status": "completed"
    },
    "tags": []
   },
   "outputs": [],
   "source": [
    "# X_train = []\n",
    "# y_train = []\n",
    "# for i in range(60, 1258):\n",
    "#     X_train.append(X_train[i-60:i, 0].values)\n",
    "#     y_train.append(y_train[i, 0].values)\n",
    "# X_train, y_train = np.array(X_train), np.array(y_train)"
   ]
  },
  {
   "cell_type": "code",
   "execution_count": 18,
   "id": "geographic-providence",
   "metadata": {
    "execution": {
     "iopub.execute_input": "2021-06-18T18:28:27.966703Z",
     "iopub.status.busy": "2021-06-18T18:28:27.966135Z",
     "iopub.status.idle": "2021-06-18T18:28:27.969522Z",
     "shell.execute_reply": "2021-06-18T18:28:27.969972Z",
     "shell.execute_reply.started": "2021-06-18T18:25:45.594156Z"
    },
    "papermill": {
     "duration": 0.025632,
     "end_time": "2021-06-18T18:28:27.970109",
     "exception": false,
     "start_time": "2021-06-18T18:28:27.944477",
     "status": "completed"
    },
    "tags": []
   },
   "outputs": [],
   "source": [
    "reframed = np.reshape(X_train.values, (X_train.shape[0], X_train.shape[1], 1))"
   ]
  },
  {
   "cell_type": "code",
   "execution_count": 19,
   "id": "prime-fairy",
   "metadata": {
    "execution": {
     "iopub.execute_input": "2021-06-18T18:28:28.011697Z",
     "iopub.status.busy": "2021-06-18T18:28:28.011149Z",
     "iopub.status.idle": "2021-06-18T18:28:28.018733Z",
     "shell.execute_reply": "2021-06-18T18:28:28.019174Z",
     "shell.execute_reply.started": "2021-06-18T18:25:50.753602Z"
    },
    "papermill": {
     "duration": 0.029684,
     "end_time": "2021-06-18T18:28:28.019324",
     "exception": false,
     "start_time": "2021-06-18T18:28:27.989640",
     "status": "completed"
    },
    "tags": []
   },
   "outputs": [
    {
     "name": "stdout",
     "output_type": "stream",
     "text": [
      "(360, 1, 3) (360, 1) (646, 1, 3) (646, 1)\n"
     ]
    }
   ],
   "source": [
    "# split into train and test sets\n",
    "values = reframed\n",
    "n_train_hours = 30 * 12\n",
    "train = values[:n_train_hours, :]\n",
    "test = values[n_train_hours:, :]\n",
    "# split into input and outputs\n",
    "train_X, train_y = train[:, :-1], train[:, -1]\n",
    "test_X, test_y = test[:, :-1], test[:, -1]\n",
    "# reshape input to be 3D [samples, timesteps, features]\n",
    "train_X = train_X.reshape((train_X.shape[0], 1, train_X.shape[1]))\n",
    "test_X = test_X.reshape((test_X.shape[0], 1, test_X.shape[1]))\n",
    "print(train_X.shape, train_y.shape, test_X.shape, test_y.shape)"
   ]
  },
  {
   "cell_type": "code",
   "execution_count": 20,
   "id": "sporting-bargain",
   "metadata": {
    "execution": {
     "iopub.execute_input": "2021-06-18T18:28:28.065453Z",
     "iopub.status.busy": "2021-06-18T18:28:28.064654Z",
     "iopub.status.idle": "2021-06-18T18:28:36.394764Z",
     "shell.execute_reply": "2021-06-18T18:28:36.393496Z",
     "shell.execute_reply.started": "2021-06-18T18:26:08.897164Z"
    },
    "papermill": {
     "duration": 8.355237,
     "end_time": "2021-06-18T18:28:36.394917",
     "exception": false,
     "start_time": "2021-06-18T18:28:28.039680",
     "status": "completed"
    },
    "tags": []
   },
   "outputs": [],
   "source": [
    "# design network\n",
    "model = Sequential()\n",
    "model.add(LSTM(50, input_shape=(train_X.shape[1], train_X.shape[2])))\n",
    "model.add(Dense(1))\n",
    "model.compile(loss='mae', optimizer='adam')\n",
    "# fit network\n",
    "history = model.fit(train_X, train_y, epochs=100, batch_size=72, validation_data=(test_X, test_y), verbose=0, shuffle=False)\n"
   ]
  },
  {
   "cell_type": "code",
   "execution_count": 21,
   "id": "critical-launch",
   "metadata": {
    "execution": {
     "iopub.execute_input": "2021-06-18T18:28:36.457482Z",
     "iopub.status.busy": "2021-06-18T18:28:36.456881Z",
     "iopub.status.idle": "2021-06-18T18:28:36.613707Z",
     "shell.execute_reply": "2021-06-18T18:28:36.614177Z",
     "shell.execute_reply.started": "2021-06-18T18:26:22.267665Z"
    },
    "papermill": {
     "duration": 0.198649,
     "end_time": "2021-06-18T18:28:36.614360",
     "exception": false,
     "start_time": "2021-06-18T18:28:36.415711",
     "status": "completed"
    },
    "tags": []
   },
   "outputs": [
    {
     "data": {
      "image/png": "[encoded data removed]",
      "text/plain": [
       "<Figure size 432x288 with 1 Axes>"
      ]
     },
     "metadata": {
      "needs_background": "light"
     },
     "output_type": "display_data"
    }
   ],
   "source": [
    "# plot history\n",
    "pyplot.plot(history.history['loss'], label='train')\n",
    "pyplot.plot(history.history['val_loss'], label='test')\n",
    "pyplot.legend()\n",
    "pyplot.show()"
   ]
  },
  {
   "cell_type": "code",
   "execution_count": null,
   "id": "going-copper",
   "metadata": {
    "papermill": {
     "duration": 0.021172,
     "end_time": "2021-06-18T18:28:36.657372",
     "exception": false,
     "start_time": "2021-06-18T18:28:36.636200",
     "status": "completed"
    },
    "tags": []
   },
   "outputs": [],
   "source": []
  }
 ],
 "metadata": {
  "kernelspec": {
   "display_name": "Python 3",
   "language": "python",
   "name": "python3"
  },
  "language_info": {
   "codemirror_mode": {
    "name": "ipython",
    "version": 3
   },
   "file_extension": ".py",
   "mimetype": "text/x-python",
   "name": "python",
   "nbconvert_exporter": "python",
   "pygments_lexer": "ipython3",
   "version": "3.7.10"
  },
  "papermill": {
   "default_parameters": {},
   "duration": 24.779404,
   "end_time": "2021-06-18T18:28:38.388872",
   "environment_variables": {},
   "exception": null,
   "input_path": "__notebook__.ipynb",
   "output_path": "__notebook__.ipynb",
   "parameters": {},
   "start_time": "2021-06-18T18:28:13.609468",
   "version": "2.3.3"
  }
 },
 "nbformat": 4,
 "nbformat_minor": 5
}
